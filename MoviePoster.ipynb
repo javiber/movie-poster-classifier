{
 "cells": [
  {
   "cell_type": "markdown",
   "metadata": {},
   "source": [
    "# Moview poster to category \n",
    "\n",
    "I wanted to explore the idea of classifing the category of the movie (romance, action, etc) based on the poster while also exploring [fast.ai](https://www.fast.ai/).\n",
    "I used [this kaggle dataset](https://www.kaggle.com/neha1703/movie-genre-from-its-poster) which were obtained from [IMDB](https://www.imdb.com/)."
   ]
  },
  {
   "cell_type": "code",
   "execution_count": null,
   "metadata": {
    "hide_input": false
   },
   "outputs": [],
   "source": [
    "%reload_ext autoreload\n",
    "%autoreload 2\n",
    "%matplotlib inline\n",
    "\n",
    "import os\n",
    "from fastai.vision import *\n",
    "import download\n",
    "\n",
    "np.random.seed(42)"
   ]
  },
  {
   "cell_type": "markdown",
   "metadata": {},
   "source": [
    "## Pandas\n",
    "\n",
    "Let's start off by exploring the dataset using pandas, we need to clean some some of movies that have no genre"
   ]
  },
  {
   "cell_type": "code",
   "execution_count": null,
   "metadata": {},
   "outputs": [],
   "source": [
    "path = Path(os.path.expanduser('~'))/'data/kaggle_posters'\n",
    "df = pd.read_csv(\n",
    "    path/'MovieGenre.csv', encoding=\"ISO-8859-1\", \n",
    "    dtype={'imdbId': str, 'Genre': str, 'Poster': str})"
   ]
  },
  {
   "cell_type": "code",
   "execution_count": null,
   "metadata": {},
   "outputs": [],
   "source": [
    "df = df.drop(columns=['Imdb Link', 'Title', 'IMDB Score'])\n",
    "df.head()"
   ]
  },
  {
   "cell_type": "code",
   "execution_count": null,
   "metadata": {},
   "outputs": [],
   "source": [
    "df.isna().sum()"
   ]
  },
  {
   "cell_type": "code",
   "execution_count": null,
   "metadata": {},
   "outputs": [],
   "source": [
    "df = df[~df['Genre'].isnull()]"
   ]
  },
  {
   "cell_type": "code",
   "execution_count": null,
   "metadata": {},
   "outputs": [],
   "source": [
    "if not (path/'posters').ls():\n",
    "    await download.download_data({\n",
    "            x['Poster']: path/'posters/{}'.format(x['imdbId']) for _, x in df.iterrows()})"
   ]
  },
  {
   "cell_type": "code",
   "execution_count": null,
   "metadata": {},
   "outputs": [],
   "source": [
    "verify_images(path/'posters', delete=True)"
   ]
  },
  {
   "cell_type": "code",
   "execution_count": null,
   "metadata": {},
   "outputs": [],
   "source": [
    "df = df[df['imdbId'].isin([x.stem for x in (path/'posters').ls()])]\n",
    "df.shape"
   ]
  },
  {
   "cell_type": "markdown",
   "metadata": {},
   "source": [
    "Check how many movies per-genre we have and remove the ones that have less than 1K examples"
   ]
  },
  {
   "cell_type": "code",
   "execution_count": null,
   "metadata": {},
   "outputs": [],
   "source": [
    "categories = set([g for s in df['Genre'].tolist() for g in s.split('|')])\n",
    "l = []\n",
    "for c in categories:\n",
    "    l.append((c, df[df['Genre'].str.contains(c)].shape[0]))\n",
    "    \n",
    "['{} ({})'.format(*x) for c in sorted(l, key=lambda x: x[1])]"
   ]
  },
  {
   "cell_type": "code",
   "execution_count": null,
   "metadata": {},
   "outputs": [],
   "source": [
    "unwanted = [x[0] for x in l if x[1] < 1000]\n",
    "cleaned = df\n",
    "for u in unwanted:\n",
    "    cleaned = cleaned[~cleaned['Genre'].str.contains(u)]"
   ]
  },
  {
   "cell_type": "markdown",
   "metadata": {},
   "source": [
    "## Create the Databuch"
   ]
  },
  {
   "cell_type": "code",
   "execution_count": null,
   "metadata": {},
   "outputs": [],
   "source": [
    "src = (ImageList.from_df(cleaned, path/'posters', suffix='.jpg')\n",
    "               .split_by_rand_pct()\n",
    "               .label_from_df(cols=1, label_delim='|'))\n",
    "src"
   ]
  },
  {
   "cell_type": "markdown",
   "metadata": {},
   "source": [
    "I didn't use transformations because the posters will allways appear the same way in real life "
   ]
  },
  {
   "cell_type": "code",
   "execution_count": null,
   "metadata": {},
   "outputs": [],
   "source": [
    "data = (src.transform([[], []], size=64)\n",
    "               .databunch(bs=128).normalize(imagenet_stats))\n",
    "print(data.classes)\n",
    "data.show_batch(rows=3, figsize=(7,8))"
   ]
  },
  {
   "cell_type": "markdown",
   "metadata": {},
   "source": [
    "## Training"
   ]
  },
  {
   "cell_type": "code",
   "execution_count": null,
   "metadata": {},
   "outputs": [],
   "source": [
    "learn = cnn_learner(data, models.resnet50, metrics=[accuracy_thresh, fbeta])"
   ]
  },
  {
   "cell_type": "code",
   "execution_count": null,
   "metadata": {},
   "outputs": [],
   "source": [
    "learn.lr_find()\n",
    "learn.recorder.plot()"
   ]
  },
  {
   "cell_type": "code",
   "execution_count": null,
   "metadata": {},
   "outputs": [],
   "source": [
    "lr = 1e-2\n",
    "learn.fit_one_cycle(6, slice(lr))\n",
    "learn.save('stage-1')"
   ]
  },
  {
   "cell_type": "code",
   "execution_count": null,
   "metadata": {},
   "outputs": [],
   "source": [
    "learn.recorder.plot_losses()"
   ]
  },
  {
   "cell_type": "code",
   "execution_count": null,
   "metadata": {},
   "outputs": [],
   "source": [
    "interp = ClassificationInterpretation.from_learner(learn)\n",
    "interp.plot_multi_top_losses(figsize=(2,2))"
   ]
  },
  {
   "cell_type": "code",
   "execution_count": null,
   "metadata": {},
   "outputs": [],
   "source": [
    "# helper to get the worst k classes according to fbeta score. It returns prec and rec for all of them\n",
    "def worst_classes(self, k=5, thresh:float=0.2, beta:float=2, eps:float=1e-9, sigmoid:bool=True):\n",
    "    # this is basically the code for fbeta\n",
    "    beta2 = beta ** 2\n",
    "    y_pred = (self.probs>thresh).float()\n",
    "    \n",
    "    if sigmoid: y_pred = y_pred.sigmoid()    \n",
    "    \n",
    "    y_true = self.y_true.float()\n",
    "    TP = (y_pred*y_true).sum(dim=0)\n",
    "    prec = TP/(y_pred.sum(dim=0)+eps)\n",
    "    rec = TP/(y_true.sum(dim=0)+eps)\n",
    "    fbeta = (prec*rec)/(prec*beta2+rec+eps)*(1+beta2)\n",
    "    \n",
    "    sorted_res, sorted_idx = fbeta.sort()\n",
    "    total_true = y_true.sum(0)\n",
    "    return [(self.data.classes[i], total_true[i] fbeta[i], prec[i], rec[i]) for i in sorted_idx[:k]]"
   ]
  },
  {
   "cell_type": "code",
   "execution_count": null,
   "metadata": {},
   "outputs": [],
   "source": [
    "worst_classes(interp, k=data.classes.c)"
   ]
  },
  {
   "cell_type": "code",
   "execution_count": null,
   "metadata": {},
   "outputs": [],
   "source": [
    "learn.unfreeze()\n",
    "learn.lr_find()\n",
    "learn.recorder.plot()"
   ]
  },
  {
   "cell_type": "code",
   "execution_count": null,
   "metadata": {},
   "outputs": [],
   "source": [
    "learn.fit_one_cycle(2, slice(3e-5, lr/5))\n",
    "learn.save('stage-2')"
   ]
  },
  {
   "cell_type": "code",
   "execution_count": null,
   "metadata": {},
   "outputs": [],
   "source": [
    "interp = ClassificationInterpretation.from_learner(learn)\n",
    "worst_classes(interp, k=data.c)"
   ]
  },
  {
   "cell_type": "markdown",
   "metadata": {},
   "source": [
    "Use bigger images"
   ]
  },
  {
   "cell_type": "code",
   "execution_count": null,
   "metadata": {},
   "outputs": [],
   "source": [
    "data = (src.transform([[], []], size=128)\n",
    "               .databunch(bs=128).normalize(imagenet_stats))\n",
    "data.show_batch(rows=3, figsize=(7,8))\n",
    "learn.data=data"
   ]
  },
  {
   "cell_type": "code",
   "execution_count": null,
   "metadata": {},
   "outputs": [],
   "source": [
    "learn.freeze()\n",
    "learn.lr_find()\n",
    "learn.recorder.plot()"
   ]
  },
  {
   "cell_type": "code",
   "execution_count": null,
   "metadata": {},
   "outputs": [],
   "source": [
    "lr = 1e-3\n",
    "learn.fit_one_cycle(4, slice(lr))\n",
    "learn.save('stage-1-128')"
   ]
  },
  {
   "cell_type": "code",
   "execution_count": null,
   "metadata": {},
   "outputs": [],
   "source": [
    "learn.unfreeze()\n",
    "learn.lr_find()\n",
    "learn.recorder.plot()"
   ]
  },
  {
   "cell_type": "code",
   "execution_count": null,
   "metadata": {},
   "outputs": [],
   "source": [
    "learn.fit_one_cycle(2, slice(1e-5, lr/5))\n",
    "learn.save('stage-2-128')"
   ]
  },
  {
   "cell_type": "markdown",
   "metadata": {},
   "source": [
    "126 image size"
   ]
  },
  {
   "cell_type": "code",
   "execution_count": null,
   "metadata": {},
   "outputs": [],
   "source": [
    "data = (src.transform([[], []], size=256)\n",
    "               .databunch(bs=64).normalize(imagenet_stats))\n",
    "learn.data=data"
   ]
  },
  {
   "cell_type": "code",
   "execution_count": null,
   "metadata": {},
   "outputs": [],
   "source": [
    "learn.freeze()\n",
    "learn.lr_find()\n",
    "learn.recorder.plot()"
   ]
  },
  {
   "cell_type": "code",
   "execution_count": null,
   "metadata": {},
   "outputs": [],
   "source": [
    "lr = 1e-3\n",
    "learn.fit_one_cycle(4, slice(lr))\n",
    "learn.save('stage-1-256')"
   ]
  },
  {
   "cell_type": "code",
   "execution_count": null,
   "metadata": {},
   "outputs": [],
   "source": [
    "learn.fit_one_cycle(2, slice(1e-5, lr/5))\n",
    "learn.save('stage-2-256')"
   ]
  },
  {
   "cell_type": "code",
   "execution_count": null,
   "metadata": {},
   "outputs": [],
   "source": [
    "learn.recorder.plot_losses()"
   ]
  },
  {
   "cell_type": "code",
   "execution_count": null,
   "metadata": {},
   "outputs": [],
   "source": [
    "interp = ClassificationInterpretation.from_learner(learn)"
   ]
  },
  {
   "cell_type": "code",
   "execution_count": null,
   "metadata": {},
   "outputs": [],
   "source": [
    "t2 = worst_classes(interp, k=data.c, thresh=0.2)\n",
    "t5 = worst_classes(interp, k=data.c, thresh=0.5)\n",
    "t9 = worst_classes(interp, k=data.c, thresh=0.9)\n",
    "for i in range(len(t2)):\n",
    "    print('{}: {} | {} | {}'.format(t2[i][0], t2[i][1], t5[i][1], t9[i][1]))"
   ]
  },
  {
   "cell_type": "code",
   "execution_count": null,
   "metadata": {},
   "outputs": [],
   "source": [
    "worst_classes(interp, k=data.c, thresh=0.2)"
   ]
  },
  {
   "cell_type": "code",
   "execution_count": null,
   "metadata": {},
   "outputs": [],
   "source": [
    "loader.export()"
   ]
  }
 ],
 "metadata": {
  "kernelspec": {
   "display_name": "Python 3",
   "language": "python",
   "name": "python3"
  },
  "language_info": {
   "codemirror_mode": {
    "name": "ipython",
    "version": 3
   },
   "file_extension": ".py",
   "mimetype": "text/x-python",
   "name": "python",
   "nbconvert_exporter": "python",
   "pygments_lexer": "ipython3",
   "version": "3.6.7"
  }
 },
 "nbformat": 4,
 "nbformat_minor": 2
}
